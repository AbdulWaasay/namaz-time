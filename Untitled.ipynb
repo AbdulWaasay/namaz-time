{
 "cells": [
  {
   "cell_type": "code",
   "execution_count": null,
   "id": "regulation-senegal",
   "metadata": {},
   "outputs": [],
   "source": [
    "import time\n",
    "import tkinter as tk\n",
    "from tkinter import *\n",
    "background_color=input('Enter your color')\n",
    "color=input('Enter your text color')\n",
    "def tick(time1=''):\n",
    "    time2=time.strftime('%I:%M:%S')\n",
    "    clock_frame.config(text=time2)\n",
    "    clock_frame.after(20,tick)\n",
    "def Fajar_Namaz():\n",
    "    Fajar.config(text=\"4:50   Fajr\")\n",
    "def Duhr_Namaz():\n",
    "    Duhr.config(text=\"12:32   Duhr\")\n",
    "def Asr_Namaz():\n",
    "    Asr.config(text=\"5:06   Asr\")\n",
    "def Maghrib_Namaz():\n",
    "    Maghrib.config(text=\"6:56   Maghrib\")\n",
    "def Isha_Namaz():\n",
    "    Isha.config(text=\"8:14   Isha\")\n",
    "def Jummah_Namaz():\n",
    "    Jummah.config(text=\"12:32   Jummah\")\n",
    "root=tk.Tk()\n",
    "clock_frame=tk.Label(root,font=('sansserif 100 bold'),bg=background_color,fg=color)\n",
    "clock_frame.pack(fill='both',expand=1)\n",
    "\n",
    "Fajar=tk.Label(root,font=('sansserif 50 bold'),bg=background_color,anchor='n',fg=color)\n",
    "Fajar.pack(fill=X)\n",
    "\n",
    "Duhr=tk.Label(root,font=('sansserif 50 bold'),bg=background_color,anchor='n',fg=color)\n",
    "Duhr.pack(fill=X)\n",
    "\n",
    "Asr=tk.Label(root,font=('sansserif 50 bold'),bg=background_color,anchor='n',fg=color)\n",
    "Asr.pack(fill=X)\n",
    "\n",
    "Maghrib=tk.Label(root,font=('sansserif 50 bold'),bg=background_color,anchor='n',fg=color)\n",
    "Maghrib.pack(fill=X)\n",
    "\n",
    "Isha=tk.Label(root,font=('sansserif 50 bold'),bg=background_color,anchor='n',fg=color)\n",
    "Isha.pack(fill=X)\n",
    "\n",
    "Jummah=tk.Label(root,font=('sansserif 50 bold'),bg=background_color,anchor='n',fg=color)\n",
    "Jummah.pack(fill=X)\n",
    "\n",
    "root.geometry('400x400')\n",
    "root.configure(background='light green')\n",
    "tick()\n",
    "Fajar_Namaz()\n",
    "Duhr_Namaz()\n",
    "Asr_Namaz()\n",
    "Maghrib_Namaz()\n",
    "Isha_Namaz()\n",
    "Jummah_Namaz()\n",
    "root.mainloop()"
   ]
  }
 ],
 "metadata": {
  "kernelspec": {
   "display_name": "Python 3",
   "language": "python",
   "name": "python3"
  },
  "language_info": {
   "codemirror_mode": {
    "name": "ipython",
    "version": 3
   },
   "file_extension": ".py",
   "mimetype": "text/x-python",
   "name": "python",
   "nbconvert_exporter": "python",
   "pygments_lexer": "ipython3",
   "version": "3.8.7"
  }
 },
 "nbformat": 4,
 "nbformat_minor": 5
}
